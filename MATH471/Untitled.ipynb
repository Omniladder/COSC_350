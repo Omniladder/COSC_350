{
 "cells": [
  {
   "cell_type": "code",
   "execution_count": 6,
   "id": "f7ce8141-d64d-4252-84fc-f2960bb15fa2",
   "metadata": {},
   "outputs": [],
   "source": [
    "def counting(a):\n",
    "    count = 0\n",
    "    for i in range(a):\n",
    "        count += 1\n",
    "    return count\n"
   ]
  },
  {
   "cell_type": "code",
   "execution_count": 7,
   "id": "9f261c5e-9ec6-44e1-8182-50d7fce2cde0",
   "metadata": {},
   "outputs": [
    {
     "name": "stdout",
     "output_type": "stream",
     "text": [
      "1.75 µs ± 568 ns per loop (mean ± std. dev. of 7 runs, 100,000 loops each)\n"
     ]
    }
   ],
   "source": [
    "%timeit counting(50)"
   ]
  },
  {
   "cell_type": "code",
   "execution_count": null,
   "id": "8907a7b8-6eb5-49cf-8047-1955fe395728",
   "metadata": {},
   "outputs": [],
   "source": []
  }
 ],
 "metadata": {
  "kernelspec": {
   "display_name": "Python 3 (ipykernel)",
   "language": "python",
   "name": "python3"
  },
  "language_info": {
   "codemirror_mode": {
    "name": "ipython",
    "version": 3
   },
   "file_extension": ".py",
   "mimetype": "text/x-python",
   "name": "python",
   "nbconvert_exporter": "python",
   "pygments_lexer": "ipython3",
   "version": "3.10.12"
  }
 },
 "nbformat": 4,
 "nbformat_minor": 5
}
