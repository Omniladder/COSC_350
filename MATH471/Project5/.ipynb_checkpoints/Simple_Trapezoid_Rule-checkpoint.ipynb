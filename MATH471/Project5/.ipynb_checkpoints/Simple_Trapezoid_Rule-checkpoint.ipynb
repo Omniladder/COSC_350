{
 "cells": [
  {
   "cell_type": "code",
   "execution_count": 31,
   "id": "343e25a8-7710-4361-be46-750c287800e5",
   "metadata": {},
   "outputs": [
    {
     "data": {
      "text/plain": [
       "1443.0826331903602"
      ]
     },
     "execution_count": 31,
     "metadata": {},
     "output_type": "execute_result"
    }
   ],
   "source": [
    "import math as m\n",
    "\n",
    "\"\"\"Simple Trapezoid Rule\"\"\"\n",
    "def simtraprule(fun,a,b,n):\n",
    "    sum=0.5*(fun(a)+fun(b))\n",
    "    h=(b-a)/n\n",
    "    for i in range(1,n):\n",
    "        x=a+i*h\n",
    "        sum+=fun(x)\n",
    "    return h*sum\n",
    "\n",
    "def line(x):\n",
    "    return 5*x+3\n",
    "\n",
    "def expsqr(x):\n",
    "    return m.exp(x**2)\n",
    "\n",
    "simtraprule(lambda x:m.exp(x**2),1,3,10000)"
   ]
  },
  {
   "cell_type": "code",
   "execution_count": 33,
   "id": "ece4ba03-efcb-4383-9b48-66c2636bd0d2",
   "metadata": {},
   "outputs": [
    {
     "data": {
      "text/plain": [
       "2"
      ]
     },
     "execution_count": 33,
     "metadata": {},
     "output_type": "execute_result"
    }
   ],
   "source": [
    "add_one = lambda x: x+1\n",
    "add_one(1)"
   ]
  },
  {
   "cell_type": "code",
   "execution_count": 35,
   "id": "cd686ec7-eaa5-4cf4-973f-bcf448f94145",
   "metadata": {},
   "outputs": [
    {
     "data": {
      "text/plain": [
       "6"
      ]
     },
     "execution_count": 35,
     "metadata": {},
     "output_type": "execute_result"
    }
   ],
   "source": [
    "(lambda x: x+1)(5)"
   ]
  },
  {
   "cell_type": "code",
   "execution_count": null,
   "id": "d0ea8c8d-8195-406d-9707-8bc950a9fb1e",
   "metadata": {},
   "outputs": [],
   "source": []
  }
 ],
 "metadata": {
  "kernelspec": {
   "display_name": "Python 3 (ipykernel)",
   "language": "python",
   "name": "python3"
  },
  "language_info": {
   "codemirror_mode": {
    "name": "ipython",
    "version": 3
   },
   "file_extension": ".py",
   "mimetype": "text/x-python",
   "name": "python",
   "nbconvert_exporter": "python",
   "pygments_lexer": "ipython3",
   "version": "3.12.4"
  }
 },
 "nbformat": 4,
 "nbformat_minor": 5
}
