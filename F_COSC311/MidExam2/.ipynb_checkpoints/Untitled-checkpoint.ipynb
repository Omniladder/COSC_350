{
 "cells": [
  {
   "cell_type": "code",
   "execution_count": 6,
   "id": "66027424-7221-4038-ae76-a00c1b2c181c",
   "metadata": {},
   "outputs": [],
   "source": [
    "from sklearn.model_selection import train_test_split\n",
    "from sklearn.neighbors import KNeighborsClassifier\n",
    "from sklearn.datasets import load_breast_cancer"
   ]
  },
  {
   "cell_type": "code",
   "execution_count": 19,
   "id": "b1693e2f-69fa-4764-8780-2bf7afc9a395",
   "metadata": {},
   "outputs": [],
   "source": [
    "knn = KNeighborsClassifier(n_neighbors = 5)\n",
    "unsplitData = load_breast_cancer()"
   ]
  },
  {
   "cell_type": "code",
   "execution_count": 21,
   "id": "7bf7332f-f4eb-4a2b-957b-c0792a3905ee",
   "metadata": {},
   "outputs": [
    {
     "ename": "NameError",
     "evalue": "name 'splitData' is not defined",
     "output_type": "error",
     "traceback": [
      "\u001b[0;31m---------------------------------------------------------------------------\u001b[0m",
      "\u001b[0;31mNameError\u001b[0m                                 Traceback (most recent call last)",
      "Cell \u001b[0;32mIn[21], line 2\u001b[0m\n\u001b[1;32m      1\u001b[0m featureTrain, featureTest, classTrain, classTest \u001b[38;5;241m=\u001b[39m train_test_split(unsplitData\u001b[38;5;241m.\u001b[39mdata, unsplitData\u001b[38;5;241m.\u001b[39mtarget, test_size \u001b[38;5;241m=\u001b[39m \u001b[38;5;241m.20\u001b[39m, random_state\u001b[38;5;241m=\u001b[39m \u001b[38;5;241m12\u001b[39m)\n\u001b[0;32m----> 2\u001b[0m knn\u001b[38;5;241m.\u001b[39mfit(\u001b[43msplitData\u001b[49m\u001b[38;5;241m.\u001b[39mdata, splitData\u001b[38;5;241m.\u001b[39mtarget)\n",
      "\u001b[0;31mNameError\u001b[0m: name 'splitData' is not defined"
     ]
    }
   ],
   "source": [
    "featureTrain, featureTest, classTrain, classTest = train_test_split(unsplitData.data, unsplitData.target, test_size = .20, random_state= 12)\n",
    "knn.fit(featureTrain.data, classTrain.target)"
   ]
  },
  {
   "cell_type": "code",
   "execution_count": null,
   "id": "40df568d-72cb-44ac-a975-aee5a77b339d",
   "metadata": {},
   "outputs": [],
   "source": []
  }
 ],
 "metadata": {
  "kernelspec": {
   "display_name": "Python 3 (ipykernel)",
   "language": "python",
   "name": "python3"
  },
  "language_info": {
   "codemirror_mode": {
    "name": "ipython",
    "version": 3
   },
   "file_extension": ".py",
   "mimetype": "text/x-python",
   "name": "python",
   "nbconvert_exporter": "python",
   "pygments_lexer": "ipython3",
   "version": "3.10.12"
  }
 },
 "nbformat": 4,
 "nbformat_minor": 5
}
