{
 "cells": [
  {
   "cell_type": "markdown",
   "metadata": {},
   "source": [
    "# COSC 311 Final Exam_Spring 2024 (Part II)\n",
    "\n",
    "Time limit: 100 minutes"
   ]
  },
  {
   "cell_type": "markdown",
   "metadata": {},
   "source": [
    "Note: You need to **copy and paste your source code into the Answer Area after each question on MyClasses**. In addition, you also need to **upload this Jupyter Notebook file (\".ipynb\") with all your source code and test results** to the last task of this exam on MyClasses."
   ]
  },
  {
   "cell_type": "markdown",
   "metadata": {},
   "source": [
    "### Question 1 (15 points):\n",
    "\n",
    "Use the attached file named \"SciencePaper.txt\", write a Python program to analyze this file and answer the following questions.\n",
    "\n",
    "Task 1: How many different words appeared in this paper?\n",
    "\n",
    "Task 2: What are the 10 words that appear most frequently (from high to low)?\n",
    "\n",
    "Task 3: What are the appearance frequencies for the following words?\n",
    "\n",
    "-\tSummerfelt\n",
    "\n",
    "-\twastewater\n",
    "\n",
    "-\tgreenhouse\n",
    "\n",
    "-\tsalmon\n",
    "\n",
    "Task 4: What are the words appear exactly 1 time, 2 times, 5 times, and 10 times, respectively?\n",
    "\n",
    "Task 5: Draw a bar figure to show the average length of words for each appearance frequency.\n",
    "\n",
    "Note: you may use **file = open('SciencePaper.txt', 'r', errors='ignore')** to open the file if there is encoding/decoding error."
   ]
  },
  {
   "cell_type": "code",
   "execution_count": 27,
   "metadata": {},
   "outputs": [
    {
     "name": "stdout",
     "output_type": "stream",
     "text": [
      "Number of Words 1169\n",
      "[(1, 'OCEANS'), (2, 'AWAY'), (31, 'IS'), (3, 'RAISING'), (56, 'SALMON'), (19, 'ON'), (9, 'LAND'), (151, 'THE'), (2, 'NEXT'), (4, 'BIG'), (2, 'THING'), (72, 'IN'), (5, 'FARMING'), (46, 'FISH'), (16, 'BY'), (1, 'ERIK'), (1, 'STOKSTAD'), (1, '09'), (1, 'FEB'), (1, '2023:'), (1, '530-533'), (1, 'HTTPS://WWWSCIENCEORG/CONTENT/ARTICLE/OCEANS-AWAY-RAISING-SALMON-LAND-NEXT-BIG-THING-FARMING-FISH'), (1, 'NORTHFIELD'), (1, 'WISCONSIN—WHEN'), (1, 'DRIVERS'), (1, 'HIGHWAY'), (1, '94'), (1, 'PASS'), (4, 'THIS'), (1, 'TINY'), (1, 'TOWN'), (14, 'SOME'), (16, 'ARE'), (1, 'STRUCK'), (72, 'A'), (1, 'MYSTERIOUS'), (1, 'NOCTURNAL'), (1, 'GLOW'), (1, 'PINK'), (2, 'LIGHT'), (1, 'EMANATES'), (13, 'FROM'), (2, 'WORLD’S'), (5, 'LARGEST'), (1, 'AQUAPONIC'), (5, 'GREENHOUSE'), (9, 'WHICH'), (23, 'CAN'), (2, 'PRODUCE'), (10, 'UP'), (78, 'TO'), (1, '2'), (4, 'MILLION'), (2, 'KILOGRAMS'), (73, 'OF'), (2, 'SALAD'), (1, 'GREENS'), (7, 'EACH'), (7, 'YEAR'), (6, 'LESS'), (1, 'OBVIOUS'), (8, 'BUT'), (11, 'ALSO'), (1, 'UNIQUE'), (20, 'AT'), (1, 'SCALE'), (1, 'SOURCE'), (5, 'NUTRIENTS'), (5, 'USED'), (1, 'FERTILIZE'), (1, 'CROPS:'), (6, 'WASTEWATER'), (1, 'FLOWING'), (5, 'HUGE'), (5, 'NEARBY'), (14, 'TANKS'), (1, 'TEEMING'), (22, 'WITH'), (7, 'ATLANTIC'), (1, 'SILVERY'), (5, 'GROW'), (1, 'INDOORS'), (2, 'FAR'), (4, 'OCEAN'), (3, 'WHERE'), (6, 'WILD'), (2, 'NORMALLY'), (2, 'SPEND'), (1, 'BULK'), (12, 'THEIR'), (4, 'LIVES'), (3, 'RECENT'), (1, 'WINTER'), (2, 'DAY'), (1, 'SURROUNDING'), (1, 'FARMLAND'), (1, 'BLANKETED'), (1, 'SNOW'), (1, 'STEVE'), (15, 'SUMMERFELT'), (1, 'OPENED'), (1, 'DOOR'), (2, 'HOUSE'), (1, 'HUNDREDS'), (1, 'METER-LONG'), (1, 'SWAM'), (1, 'VIGOROUSLY'), (1, 'HOUSE-SIZE'), (4, 'TANK'), (2, 'WHILE'), (8, 'AN'), (1, 'OVERHEAD'), (1, 'CRANE'), (1, 'DELIVERED'), (1, '1-TON'), (1, 'SACK'), (5, 'FEED'), (9, 'INTO'), (1, 'AUTOMATED'), (1, 'DISPENSER'), (1, 'RUMBLING'), (5, 'PUMPS'), (73, 'AND'), (2, 'FILLED'), (9, 'SAND'), (1, 'SEPARATED'), (1, 'SOUNDPROOF'), (1, 'WALL'), (1, 'TREATED'), (30, 'THAT'), (4, 'HAD'), (2, 'BEEN'), (1, 'STRIPPED'), (1, 'POOP'), (3, 'NITROGEN'), (2, 'PHOSPHORUS'), (7, 'WERE'), (2, 'DIVERTED'), (1, 'VAST'), (1, 'CLEANSED'), (18, 'WATER'), (1, 'RECIRCULATED'), (1, '“SOMETIMES'), (3, 'SO'), (4, 'CLEAN'), (14, 'IT'), (1, 'LOOKS'), (3, 'LIKE'), (2, 'SWIMMING'), (1, 'AIR”'), (13, 'SAYS'), (1, 'ENGINEER'), (4, 'WHO'), (2, 'HEAD'), (1, 'R&D'), (5, 'COMPANY'), (3, 'CALLED'), (16, 'SUPERIOR'), (14, 'FRESH'), (1, 'SPRAWLING'), (2, 'FACILITY'), (3, 'JUST'), (6, 'ONE'), (1, 'DOZENS'), (2, 'INDOOR'), (18, 'FARMS'), (16, 'HAVE'), (1, 'SPRUNG'), (1, 'AROUND'), (1, 'WORLD'), (5, 'YEARS'), (19, 'AS'), (2, 'INVESTORS'), (1, 'PUMPED'), (1, 'MONEY'), (3, 'WHAT'), (2, 'MANY'), (2, 'SEE'), (5, 'FARMED'), (6, 'OVER'), (2, 'PAST'), (2, 'DECADE'), (1, 'GLOBAL'), (1, 'SALES'), (1, 'PINK-FLESHED'), (1, 'NEARLY'), (1, 'DOUBLED'), (1, '$12'), (1, 'BILLION'), (2, 'DEMAND'), (1, 'EXPECTED'), (1, 'KEEP'), (6, 'GROWING'), (1, 'TRADITIONALLY'), (1, 'BOUNTY'), (9, 'HAS'), (4, 'RAISED'), (5, 'LARGE'), (2, 'FLOATING'), (2, 'CAGES'), (3, 'NET'), (3, 'PENS'), (1, 'LOCATED'), (5, 'COASTAL'), (2, 'WATERS'), (5, 'ENVIRONMENTAL'), (2, 'CONCERNS'), (1, 'LIMITED'), (3, 'ROOM'), (31, 'FOR'), (1, 'EXPANSION'), (1, 'PROMPTED'), (3, 'COMPANIES'), (1, 'EXPLORE'), (2, 'MOVING'), (2, 'OPERATIONS'), (1, 'ASHORE'), (1, '“INDUSTRY'), (1, 'REALIZING'), (2, 'WAY'), (1, 'EXPAND”'), (1, 'CHRIS'), (1, 'GOOD'), (8, 'RESEARCH'), (1, 'CONSERVATION'), (1, 'FUND’S'), (10, 'FRESHWATER'), (9, 'INSTITUTE'), (1, 'NONPROFIT'), (1, 'SUPPORTS'), (2, 'SUSTAINABLE'), (10, 'AQUACULTURE'), (3, 'FIRMS'), (1, 'FINE-TUNING'), (1, 'TECHNOLOGIES'), (18, 'THEY'), (1, 'HOPE'), (6, 'WILL'), (3, 'ULTIMATELY'), (1, 'ENABLE'), (4, 'THEM'), (5, 'RAISE'), (1, 'NUMBERS'), (9, 'LAND-BASED'), (2, 'FACILITIES'), (6, 'THESE'), (1, 'COLD-WATER'), (3, 'ALREADY'), (15, 'BE'), (4, 'FOUND'), (1, 'IMPROBABLE'), (1, 'PLACES'), (3, 'INCLUDING'), (1, 'SEMITROPICAL'), (3, 'FLORIDA'), (1, 'ARID'), (1, 'GOBI'), (1, 'DESERT'), (1, 'FLOURISH'), (1, 'LAND—AND'), (2, 'COMPETE'), (1, 'EXISTING'), (1, 'SOURCES—FIRMS'), (1, 'OVERCOME'), (1, 'FORMIDABLE'), (3, 'CHALLENGES'), (4, 'DEALING'), (9, 'WASTE'), (1, 'DEVELOPING'), (1, 'VARIANTS'), (1, 'THRIVE'), (1, 'KARL'), (1, 'ØYSTEIN'), (3, 'ØYEHAUG'), (1, 'CHIEF'), (1, 'FINANCIAL'), (1, 'OFFICER'), (3, 'SAPPHIRE'), (3, 'ANOTHER'), (5, 'FIRM'), (1, '“IS'), (7, 'MUCH'), (7, 'MORE'), (1, 'COMPLICATED”'), (2, 'THAN'), (10, 'OTHER'), (2, 'SEAFOOD'), (1, 'SPECIES'), (1, 'DRIVING'), (1, 'VIGOROUS'), (3, 'EFFORTS'), (1, 'UNIVERSITIES'), (1, 'GOVERNMENT'), (1, 'LABORATORIES'), (2, 'HERE'), (1, 'RURAL'), (2, 'WISCONSIN'), (1, 'SUMMERFELT—WHO'), (3, 'SPENT'), (1, '26'), (1, 'CONDUCTING'), (1, 'INSTITUTE—HAS'), (2, 'HELPED'), (1, 'LAUNCH'), (1, 'RANCH'), (1, 'PUTTING'), (1, 'INNOVATIVE'), (1, 'SOLUTIONS'), (1, 'PRACTICE'), (2, 'UNLIKE'), (1, 'THOSE'), (3, 'MOST'), (1, 'NEVER'), (1, 'TOUCH'), (1, 'DROP'), (4, 'SALTWATER'), (2, 'FILTERS'), (3, 'PURIFY'), (3, 'USE'), (2, 'CHEAP'), (3, 'INSTEAD'), (1, 'COSTLIER'), (1, 'MATERIALS'), (2, 'OFTEN'), (1, 'ELSEWHERE'), (1, 'SIMPLY'), (1, 'DUMPING'), (5, 'ITS'), (2, 'RECYCLES'), (2, 'FERTILIZER'), (2, 'CROPS'), (1, 'GLOWING'), (1, 'BELIEVES'), (2, 'SUCH'), (2, 'APPROACHES'), (1, 'KEY'), (1, 'MAKING'), (1, 'BOTH'), (1, 'ECONOMICALLY'), (1, 'VIABLE'), (2, 'ENVIRONMENTALLY'), (1, 'SOUND'), (1, 'THEY’VE'), (1, 'MADE'), (2, 'HIM'), (1, 'SOMETHING'), (1, 'MAVERICK'), (5, 'INDUSTRY'), (1, 'STILL'), (1, '“HAS'), (1, 'INFLUENCE”'), (1, 'BENDIK'), (1, 'FYHN'), (2, 'TERJESEN'), (2, 'PHYSIOLOGIST'), (1, 'CERMAQ'), (1, 'GROUP'), (3, 'NORWAY'), (1, 'LEADING'), (1, 'PRODUCER'), (1, '“ALL'), (1, 'PEOPLE'), (1, 'KNOW'), (10, 'HIS'), (1, 'WORK”'), (2, 'ALTHOUGH'), (1, 'CONSIDERED'), (2, 'NO'), (1, 'STRANGERS'), (1, 'HATCHLINGS'), (1, 'BEGIN'), (3, 'STREAMS'), (1, 'FEMALES'), (1, 'LAY'), (2, 'THOUSANDS'), (5, 'EGGS'), (6, 'NEW'), (1, 'GENERATION'), (1, 'HEADS'), (1, 'DOWNSTREAM'), (1, 'HAND-SIZE'), (2, 'SMOLTS'), (2, 'ADULT'), (1, 'TYPICALLY'), (1, 'WANDER'), (1, 'HIGH'), (1, 'SEAS'), (3, 'SEVERAL'), (1, 'BEFORE'), (1, 'RETURNING'), (1, 'HOME'), (1, 'SPAWN'), (1, '1730S'), (1, 'GERMAN'), (1, 'NATURALIST'), (4, 'BEGAN'), (1, 'TAKING'), (1, 'TRYING'), (1, 'HATCH'), (1, 'CENTURY'), (3, 'LATER'), (1, 'EUROPEANS'), (2, 'BUILDING'), (1, 'HATCHERIES'), (1, 'MASS'), (1, 'SUPPLEMENT'), (1, 'DECLINING'), (2, 'STOCKS'), (1, 'DIDN’T'), (1, 'SUCCESS'), (1, '1960S'), (1, 'FUELED'), (1, 'EMERGENCE'), (3, 'NORWEGIAN'), (2, 'FARMERS'), (1, 'FJORDS'), (1, 'FATTENED'), (1, 'SPECIAL'), (1, 'COLD'), (7, 'WAS'), (1, 'PROTECTED'), (1, 'PREDATORS'), (1, 'TODAY'), (1, 'PARTICULARLY'), (1, 'OFF'), (1, 'CHILE'), (1, 'ACCOUNT'), (1, '70%'), (1, '37'), (5, 'TONS'), (1, 'EATEN'), (1, 'WORLDWIDE'), (2, 'EVEN'), (1, 'BOOMED—AND'), (1, 'CONSUMER'), (1, 'SHOWS'), (1, 'SIGNS'), (1, 'SLACKENING—IT'), (1, 'BEGUN'), (3, 'FACE'), (1, 'CONSTRAINTS'), (1, 'PRIME'), (1, 'NEARSHORE'), (2, 'AREAS'), (4, 'COMMUNITIES'), (1, 'RESISTED'), (1, 'CONCERNED'), (9, 'ABOUT'), (1, 'IMPACT'), (1, 'VIEWS'), (1, 'RECREATIONAL'), (1, 'BOATING'), (2, 'COMMERCIAL'), (1, 'FISHING'), (4, 'RESEARCHERS'), (2, 'REGULATORS'), (1, 'GROUPS'), (1, 'ALARMS'), (2, 'POLLUTION'), (2, 'PRODUCED'), (1, 'TIGHTLY'), (1, 'PACKED'), (3, 'WELL'), (1, 'PARASITIC'), (1, 'LICE'), (2, 'DISEASES'), (1, 'SPREAD'), (2, 'NOTE'), (1, 'ESCAPEES'), (1, 'BREED'), (2, 'POTENTIALLY'), (1, 'WEAKENING'), (1, 'GENETIC'), (1, 'MAKEUP'), (1, 'NATIVE'), (2, 'LED'), (1, 'BRITISH'), (1, 'COLUMBIA'), (1, 'WASHINGTON'), (1, 'STATE'), (1, 'CONSIDER'), (1, 'BARRING'), (3, 'OR'), (1, 'RESTRICTING'), (1, 'DEVELOPMENTS'), (1, 'CATALYZED'), (2, 'ENTIRELY'), (5, 'USING'), (1, 'KNOWN'), (1, 'RECIRCULATING'), (6, 'SYSTEM'), (2, 'APPROACH'), (1, 'OFFERS'), (2, 'ADVANTAGES'), (4, 'SAY'), (1, 'HELP'), (1, 'MANAGERS'), (1, 'CONTROL'), (2, 'CONDITIONS'), (1, 'REDUCE'), (2, 'DISEASE'), (2, 'RISKS'), (3, 'DON’T'), (1, 'SAME'), (1, 'SPACE'), (1, 'LIMITS'), (2, 'PRODUCTION'), (3, 'MOVED'), (1, 'CLOSER'), (2, 'MARKETS'), (1, 'PRINCIPLE'), (3, 'COULD'), (1, 'CONTAIN'), (1, 'AQUABOUNTY'), (1, 'CORPORATE'), (1, 'HEADQUARTERS'), (1, 'MAYNARD'), (1, 'MASSACHUSETTS'), (2, 'LONG'), (1, 'ANTICIPATED'), (1, '1991'), (1, 'COMMERCIALIZE'), (1, 'STRAIN'), (2, 'GENETICALLY'), (1, 'ENGINEERED'), (2, 'FASTER'), (1, 'EFFICIENT'), (4, 'GROWTH'), (6, 'WHEN'), (2, 'US'), (1, 'CANADIAN'), (2, 'FINALLY'), (1, 'APPROVED'), (1, 'SALE'), (1, 'REQUIRED'), (3, 'PREVENT'), (1, 'INTERBREEDING'), (3, 'NOW'), (1, '1450'), (2, 'TWO'), (1, 'INDIANA'), (1, 'PRINCE'), (1, 'EDWARD'), (1, 'ISLAND'), (1, 'THIRD'), (1, 'OHIO'), (1, 'POURED'), (1, 'BILLIONS'), (1, 'DOLLARS'), (1, 'AMBITIONS'), (1, 'AIMING'), (1, '220000'), (1, '2031'), (3, 'COMPANY’S'), (1, 'FOUNDERS'), (1, 'WANTED'), (1, 'SELL'), (2, 'NEAR'), (1, 'NORTH'), (1, 'AMERICAN'), (1, 'AVOID'), (2, 'NEED'), (1, 'EXPENSIVE'), (1, 'CARBON-INTENSIVE'), (1, 'AIR'), (1, 'FREIGHT'), (1, '“WE'), (1, 'REFER'), (1, 'INSANITY'), (1, 'MARKET”'), (1, 'DECIDED'), (1, 'SET'), (1, 'SHOP'), (1, 'EVERGLADES'), (3, 'MIGHT'), (1, 'SEEM'), (2, 'UNLIKELY'), (1, 'LOCATION'), (1, 'EXECUTIVES'), (1, 'SITE'), (1, 'HIDDEN'), (1, 'ADVANTAGES:'), (3, 'PUMP'), (1, 'NEWBORN'), (2, 'AQUIFER'), (3, 'DIFFERENT'), (1, 'MOVE'), (3, 'THEN'), (1, 'INJECT'), (3, 'SEPARATE'), (1, 'CAVERN'), (1, '“WHAT'), (1, 'WE’RE'), (2, 'DOING'), (1, 'INVOLVES'), (1, 'MICROMANAGING'), (1, 'NUMBER'), (4, 'QUALITY'), (1, 'PARAMETERS'), (2, 'ALL'), (1, 'PERFECT”'), (1, 'GETTING'), (2, 'RIGHT'), (1, 'TRICKY'), (2, '2021'), (1, '500000'), (1, 'DIED'), (4, 'AFTER'), (1, 'CLOGGED'), (1, 'DRAIN'), (1, 'INCREASED'), (1, 'TURBIDITY'), (1, 'MAY'), (1, 'GENERATED'), (1, 'DEADLY'), (1, 'GASES'), (1, 'OUTPUT'), (1, '2400'), (1, 'SHORT'), (1, 'LONG-RANGE'), (1, 'TARGET'), (1, 'SELLS'), (1, '680'), (2, 'PER'), (1, 'FACED'), (1, 'PROTESTS'), (4, 'PLANS'), (2, 'BUILD'), (3, 'MAINE'), (1, 'CALIFORNIA'), (1, 'FEAR'), (1, 'DEPLETE'), (1, 'PRECIOUS'), (1, 'GROUNDWATER'), (1, 'POLLUTE'), (1, 'AQUIFERS'), (2, 'SURFACE'), (1, 'MARYLAND'), (1, 'CANCELED'), (5, 'FARM'), (1, 'SCIENTISTS'), (3, 'SAID'), (1, 'HARM'), (1, 'ENDANGERED'), (1, 'STURGEON'), (1, '59'), (1, 'EATS'), (1, 'LEAST'), (1, '4'), (2, 'DAYS'), (1, 'WEEK'), (12, 'HE'), (1, 'BLOOD'), (1, 'TESTED'), (1, 'LEVELS'), (2, 'OMEGA-3'), (2, 'FATTY'), (2, 'ACIDS'), (2, 'HEALTHFUL'), (1, 'COMPOUNDS'), (1, 'OILY'), (1, '“OFF'), (1, 'CHART”'), (1, 'DECADES'), (3, 'THINKING'), (2, 'HOW'), (1, 'LATE'), (1, '1980S'), (3, 'STUDYING'), (1, 'CHEMICAL'), (3, 'ENGINEERING'), (2, 'LOOKING'), (1, 'DOCTORAL'), (2, 'PROJECT'), (1, 'FATHER'), (1, 'BIOLOGIST'), (1, 'SUGGESTED'), (1, 'FEASIBILITY'), (1, 'CONVERTING'), (1, 'ABANDONED'), (1, 'TREATMENT'), (2, 'PLANTS'), (1, '“THAT'), (1, 'SOUNDS'), (1, 'FUN”'), (1, 'REMEMBERS'), (1, 'WRAPPING'), (2, 'FIRST'), (1, 'JOB'), (1, 'EVENTUALLY'), (1, 'BECAME'), (1, 'DIRECTOR'), (2, 'DEVELOP'), (1, 'DEMONSTRATION'), (1, 'UNIT'), (4, 'TIME'), (1, 'COMMERCIALLY'), (1, '2013'), (1, 'CONTACTED'), (1, 'BRANDON'), (2, 'GOTTSACKER'), (1, 'GRADUATE'), (3, 'UNIVERSITY'), (1, 'STEVENS'), (1, 'POINT'), (2, 'INTERESTED'), (1, 'SETTING'), (1, 'DREW'), (1, 'BACKED'), (1, 'KAREN'), (2, 'WANEK'), (1, 'HER'), (1, 'HUSBAND'), (1, 'TODD'), (1, 'OWNER'), (1, 'CEO'), (1, 'ASHLEY'), (2, 'FURNITURE'), (1, 'MANUFACTURER'), (1, 'PILOT-SCALE'), (2, 'PLANT'), (1, '2016'), (1, 'LEFT'), (1, 'JOIN'), (2, 'FULL'), (1, '“I'), (1, '‘I'), (2, 'WANT'), (1, 'JUMP'), (1, 'IN’'), (2, 'BECAUSE'), (1, 'I'), (1, 'COULDN’T'), (1, 'ANYONE'), (1, 'ELSE'), (1, 'RIGHT”'), (1, 'SINCE'), (1, 'EXPANDED'), (1, '10-FOLD'), (1, 'DOZEN'), (1, 'HOLD'), (1, '50000'), (2, 'HARVEST'), (1, 'DESIGNING'), (1, 'GAVE'), (1, 'CHANCE'), (1, 'REALIZE'), (1, 'UNORTHODOX'), (1, 'IDEAS'), (1, 'INVOLVED'), (1, 'PROBLEM'), (1, 'FACING'), (1, 'FACTORY'), (2, 'CONFINED'), (1, 'ANIMALS'), (1, 'NET-PEN'), (1, '80%'), (1, '60%'), (1, 'WASTED'), (1, 'DRIFTS'), (1, 'UNEATEN'), (1, 'EXCRETE'), (1, 'UNUSED'), (1, 'LEFTOVER'), (1, 'FUEL'), (1, 'HARMFUL'), (1, 'ALGAL'), (1, 'BLOOMS'), (1, 'ACIDIFICATION'), (1, 'OPTIONS'), (3, 'EXAMPLE'), (1, 'LANDFILLS'), (1, 'SOLID'), (1, 'LIQUID'), (1, 'UNDERGROUND'), (1, 'CONVERT'), (1, 'WASTES'), (1, 'BIOGAS'), (1, 'BURNED'), (3, 'ENERGY'), (1, 'EXTRACT'), (1, 'VALUE'), (1, 'POSSIBLE'), (2, 'USES'), (1, 'SOLD'), (1, '2000'), (1, 'SUPERMARKETS'), (1, 'CONVENIENCE'), (1, 'STORES'), (1, 'RESTORE'), (1, 'SOIL'), (2, 'FIELDS'), (2, 'MARINE'), (2, 'CHALLENGE'), (1, 'CONVERTS'), (1, 'ADJACENT'), (1, 'REST'), (1, 'ADDED'), (4, 'MICROBES'), (1, 'TRANSFORM'), (2, 'TOXIC'), (1, 'AMMONIA'), (1, 'NITRATE'), (1, 'FORM'), (1, 'RELY'), (3, 'TECHNOLOGY'), (2, 'BED'), (1, 'BIOREACTOR'), (1, 'COUNTLESS'), (1, 'SMALL'), (1, 'PLASTIC'), (1, 'CHIPS'), (1, 'SWIRL'), (2, 'BUBBLING'), (1, 'PROVIDING'), (1, 'SUBSTRATE'), (1, 'MICROBIAL'), (1, 'HOWEVER'), (1, 'STUDIED'), (1, 'APPROACH:'), (2, 'BIOFILTERS'), (3, 'CONTAINING'), (2, 'GRAINS'), (1, 'PROVIDE'), (1, 'GREATER'), (1, 'AREA'), (1, 'COLONIZE'), (1, 'READILY'), (1, 'AVAILABLE'), (2, 'INSIDE'), (2, 'FRESH’S'), (2, 'SUMMERFELT’S'), (1, '6-METER-TALL'), (1, 'TOWER'), (1, 'SUMP'), (2, 'SIZE'), (1, 'POOL'), (1, 'CONSTANTLY'), (1, 'PUSH'), (1, 'THROUGH'), (1, '“THE'), (1, 'WHOLE'), (1, 'BASED'), (1, 'INJECTING'), (1, 'UNDERNEATH'), (2, 'LIFT'), (1, 'CONTINUOUSLY'), (1, 'DOESN’T'), (1, 'EVER'), (1, 'COLLAPSE”'), (1, 'KEEPS'), (1, 'ASPECTS'), (2, 'FILTRATION'), (1, 'CONFIDENTIAL'), (1, 'PROHIBITS'), (1, 'PHOTOGRAPHS'), (2, 'ENTIRE'), (1, 'EVERYTHING'), (2, 'SIMPLER'), (2, 'WITHOUT'), (3, 'SALT'), (1, 'MEANS'), (1, 'CORROSION'), (2, 'METAL'), (2, 'PIPES'), (2, 'RISK'), (2, 'OZONE'), (1, 'CAUSE'), (1, 'BUILDUP'), (1, 'BROMINE'), (1, 'ABSENCE'), (1, 'MAKES'), (2, 'EASIER'), (1, 'BIOSOLIDS'), (1, 'COMPOSTED'), (1, 'LIQUIDS'), (1, 'FIELDS—A'), (1, 'NONSTARTER'), (2, 'IF'), (1, 'CONTAMINATED'), (1, 'SHARE'), (1, 'ENTHUSIASM'), (1, 'EITHER'), (1, 'SUGGEST'), (2, 'IT’S'), (1, 'NOT'), (1, 'NECESSARILY'), (3, 'OPTIMAL'), (1, 'YOUNG'), (1, 'GET'), (1, 'SPURT'), (1, 'ENCOUNTER'), (1, 'SALINITY'), (2, 'BRACKISH'), (2, 'SALMON’S'), (1, 'REGULATION'), (1, 'IONS'), (2, 'MUST'), (1, 'EXPEND'), (2, 'KEEPING'), (1, 'BALANCE'), (1, 'SLOWING'), (1, 'INHIBIT'), (2, 'BACTERIAL'), (1, 'PRODUCERS'), (1, 'FEEL'), (1, 'IMPROVES'), (1, 'TASTE'), (1, 'FILTER'), (1, 'PROBLEMATIC'), (2, '“WHEN'), (1, 'OPERATING'), (1, 'PROPERLY'), (1, 'GREAT”'), (1, 'ANIMAL'), (1, 'HEALTH'), (1, 'SPECIALIST'), (1, 'DEBORAH'), (1, 'BOUCHARD'), (1, 'DIRECTS'), (1, 'ORONO'), (1, 'OUTBREAK'), (1, 'STRIKES'), (2, 'DIFFICULT'), (1, 'DISINFECT'), (2, 'ADDS'), (1, 'CONCERN:'), (1, '“IF'), (1, 'GETS'), (1, 'OUT'), (2, 'YOUR'), (1, 'BIOFILTER'), (1, 'YOU'), (1, 'TROUBLE'), (2, 'BREAK'), (2, 'DOWN'), (1, 'IMMEDIATELY”'), (1, 'LOCATION—A'), (1, 'BASEMENT'), (1, 'DOWNTOWN'), (1, 'BALTIMORE—ARE'), (3, 'TESTING'), (1, 'GROUND'), (1, 'HEALTHY'), (2, 'EFFICIENTLY'), (2, 'THERE'), (1, 'REPRODUCTIVE'), (1, 'YONATHAN'), (5, 'ZOHAR'), (1, 'MARYLAND’S'), (3, 'IMET'), (1, 'RECENTLY'), (1, 'TOSSED'), (1, 'HANDFUL'), (1, 'BROWN'), (1, 'PELLETS'), (1, '4-METER-WIDE'), (1, '“BE'), (1, 'CAREFUL'), (1, 'FISH—THEY'), (1, 'SPLASH”'), (1, 'HUNDRED'), (1, 'LUNGED'), (2, 'FOOD'), (1, 'SCENE'), (2, 'PART'), (2, '$10'), (1, 'CONSORTIUM'), (1, 'FUNDED'), (1, 'DEPARTMENT'), (1, 'AGRICULTURE'), (1, 'SEPTEMBER'), (1, 'SPECIALIZES'), (2, 'PARTNERS'), (2, 'WORKING'), (1, 'RANGE'), (1, 'BIOLOGICAL'), (1, 'SURROUNDED'), (1, 'HUMMING'), (1, 'FROTHING'), (1, 'TANGLE'), (1, 'EQUIPMENT'), (3, 'COLLEAGUES'), (1, 'LIVE'), (1, 'HOPING'), (1, 'TAILORED'), (1, 'SPECIFIC'), (1, 'STRAINS'), (2, 'MAKE'), (1, 'MAINTAIN'), (1, '“WITH'), (1, 'PROCESS'), (1, 'BECOMES'), (1, 'EFFICIENT”'), (1, 'KEIKO'), (1, 'SAITO'), (1, 'MICROBIOLOGIST'), (1, '“IT’S'), (1, 'BALANCED'), (1, 'ECOSYSTEM'), (1, 'NATURE”'), (1, 'PHD'), (1, 'STUDENT'), (1, 'MATTHEW'), (1, 'STROMBERG'), (1, 'AVID'), (1, 'ANGLER'), (1, 'TINKERER'), (1, 'FIDDLED'), (1, 'CONTROLS'), (1, 'PURIFICATION'), (1, 'CHAMBER'), (1, 'SHOULDER-HEIGHT'), (1, 'BLUE'), (1, 'RELIES'), (1, 'ULTRAVIOLET'), (2, 'UV'), (1, 'TITANIUM'), (1, 'CATALYST'), (1, 'WATER-BORNE'), (1, 'CHEMICALS'), (1, 'GIVE'), (1, 'LAND-REARED'), (1, 'MUDDY'), (1, 'FLAVOR'), (1, 'BACTERIA'), (1, 'BIOFILMS'), (1, 'METABOLITES'), (1, 'GEOSMIN'), (1, '2-METHYLISOBORNEOL'), (1, 'ELIMINATED'), (1, 'PURGING'), (1, 'UNTREATED'), (1, 'STEP'), (2, 'COST'), (1, 'LAST'), (1, 'OTHERS'), (1, 'REPORTED'), (1, 'AQUACULTURAL'), (1, 'MANUFACTURED'), (1, 'EXCITON'), (1, 'REDUCES'), (1, 'UNWANTED'), (1, 'MOLECULES'), (1, 'OPTIMIZE'), (1, 'SPENDING'), (1, 'CAPTIVITY'), (1, 'TRAYS'), (1, 'TRANSLUCENT'), (1, 'ORANGE'), (1, 'PEA'), (1, 'SIT'), (1, 'REFRIGERATED'), (1, 'CHAMBERS'), (1, 'COME'), (1, 'BRED'), (1, 'ONGOING'), (1, 'TRIALS'), (1, 'COLLEAGUE'), (1, 'TEN-TSAO'), (1, 'WONG'), (1, 'IMMERSE'), (1, 'UNFERTILIZED'), (1, 'BATH'), (2, 'ANTISENSE'), (1, 'RNA'), (1, 'DISRUPT'), (1, 'DEVELOPMENT'), (1, 'GONADS'), (1, 'GOAL'), (1, 'SEXUAL'), (2, 'MATURATION'), (1, 'CONTINUE'), (1, 'INVEST'), (1, 'MUSCLE'), (1, 'ENSURING'), (1, 'FILLETS'), (1, 'SEXUALLY'), (1, 'IMMATURE'), (2, 'SENSITIVE'), (2, 'STRESS'), (1, 'FLESH'), (1, 'APPEALING'), (1, 'MODIFYING'), (1, 'OCEANGOING'), (1, 'CONSTANT'), (1, 'ESPECIALLY'), (1, 'HANDLED'), (1, 'REALLY'), (1, 'HURT'), (1, 'THEMSELVES”'), (1, 'ÅSA'), (1, 'MARIA'), (1, 'ESPMARK'), (1, 'RESEARCHER'), (1, 'NOFIMA'), (1, 'KEENLY'), (1, 'CALM'), (1, 'BIGGEST'), (1, 'COMES'), (1, 'REQUIRES'), (1, 'CENTRIFUGAL'), (1, 'SOMERSAULTING'), (1, 'JOURNEY'), (1, 'LEAVE'), (1, 'BRUISED'), (1, 'UNWILLING'), (1, 'EAT'), (1, 'WORKERS'), (1, 'WATERPROOF'), (1, 'CLOTHING'), (1, 'LONG-HANDLED'), (1, 'CAREFULLY'), (1, 'ONTO'), (1, 'PORTABLE'), (1, 'SLUICEWAY'), (2, 'WITHIN'), (1, 'SECONDS'), (1, 'MACHINE'), (1, 'STUNS'), (1, 'CLEANED'), (1, 'BEING'), (1, 'TRUCKED'), (1, 'MARKET'), (1, 'FETCH'), (1, 'KILOGRAM'), (1, 'THAT’S'), (2, 'TWICE'), (1, 'PRICE'), (1, 'CHEAPEST'), (1, 'PEN-RAISED'), (1, 'ANALYSTS'), (1, 'LIKELY'), (1, 'BUYERS'), (1, 'OFFERING'), (1, 'LOCALLY'), (1, 'SOMETIMES'), (1, 'HIGHER'), (1, 'CLAIMS'), (1, 'USES—WHICH'), (1, 'CONTAINS'), (1, 'OIL—GIVES'), (1, 'BETTING'), (1, 'INTEGRATING'), (1, 'GREENHOUSES'), (1, 'BECOME'), (1, 'MODEL'), (1, 'PROFITABLE'), (1, 'BUSINESS'), (1, 'EXPAND'), (1, 'EAST'), (1, 'WEST'), (1, 'COASTS'), (1, 'ONCE'), (1, 'AGAIN'), (1, 'IMPROVE'), (1, 'PRACTICES'), (1, 'ENVISIONS'), (1, 'BIGGER'), (1, 'HOLDING'), (1, '3'), (1, 'LITERS'), (1, 'WATER—AND'), (1, '67500'), (1, 'SHIMMERING'), (1, '“IT'), (1, 'ECONOMY'), (1, 'SCALE”'), (1, 'PLENTY')]\n"
     ]
    }
   ],
   "source": [
    "from collections import Counter\n",
    "\n",
    "file = open('SciencePaper.txt', 'r')\n",
    "fileData = file.read()\n",
    "words = fileData.upper().replace(',','').replace(';','').replace('(','').replace(')','')\\\n",
    "        .replace('!','').replace('?','').replace('.','').split()\n",
    "dictOfWords = []\n",
    "\n",
    "wordCount = Counter(words)\n",
    "\n",
    "\n",
    "print(\"Number of Words\", len(wordCount))\n",
    "\n",
    "for i in wordCount:\n",
    "    dictOfWords.append((wordCount[i] ,i))\n",
    "\n",
    "dictOfWords = sorted(dictOfWords)\n",
    "print(dictOfWords)\n"
   ]
  },
  {
   "cell_type": "markdown",
   "metadata": {},
   "source": [
    "### Question 2 (10 points):\n",
    "\n",
    "Please use the \"Housing Dataset\" attached to finish the following tasks. **Each figure needs to show title, xlabel, and ylabel**.\n",
    "\n",
    "Task 1: Draw a scatterplot figure to show the relationship between \"total_bedrooms\" and \"median_house_value\";\n",
    "\n",
    "Task 2: Draw a bar figure to show the **maximum** \"median_house_value\" for each type of \"ocean_proximity\" (i.e. for 'NEAR BAY', '<1H OCEAN', 'INLAND', 'NEAR OCEAN', and 'ISLAND', respectively)\n",
    "\n",
    "Task 3: Draw a histogram to show the \"total_rooms\" distribution in 8 bins for the \"ISLAND\" houses.\n"
   ]
  },
  {
   "cell_type": "code",
   "execution_count": null,
   "metadata": {},
   "outputs": [],
   "source": []
  },
  {
   "cell_type": "markdown",
   "metadata": {},
   "source": [
    "### Question 3 (25 points):\n",
    "\n",
    "Please use the \"breast cancer dataset\" included in the scikit-learn library to conduct the following classfication tasks. \n",
    "\n",
    "Task 1: Conduct PCA analysis on the dataset and find out how many principal components are needed to keep at least 95% variance (i.e. the ratio of variance loss, η, is less than 5%). Assume m principal components are needed, transform the dataset to m dimensions.\n",
    "\n",
    "Task 2: Randomly split the **transformed** dataset into two parts: 70% for training and 30% for testing. Use KNN classification algorithm to conduct experiments and find out the most appropriate parameter for *k (1 <= k <= 15)*. You need to draw a figure to show the accuracies for different values of *k*; Use the best *k* value selected, show the testing results using **Classification Report** and draw the **confusion matrix (in a figure)**;  \n",
    "\n",
    "Task 3: Use the **WHOLE transformed** dataset, conduct a 10-fold cross validation test using Decision Tree algorithm (parameter setting: criterion is \"entropy\", max-depth is 25) and SVC algorithm (parameter setting: C is 5, kernel is \"rbf\", gamma is 0.01), respectively. Show the **test accuracy** and draw the corresponding **confusion matrix (in a figure)** for each classifier; \n",
    "\n",
    "Task 4: Using the **WHOLE transformed** dataset, conduct k-means clustering (k = 2, i.e., malignant and benign), 1) output the corresponding center of each cluster; 2) output the **clustering accuracy** (i.e. out of all samples, how many samples are correctly identified); 3) show the corresponding **confusion matrix** in a figure."
   ]
  },
  {
   "cell_type": "code",
   "execution_count": null,
   "metadata": {},
   "outputs": [],
   "source": []
  }
 ],
 "metadata": {
  "kernelspec": {
   "display_name": "Python 3 (ipykernel)",
   "language": "python",
   "name": "python3"
  },
  "language_info": {
   "codemirror_mode": {
    "name": "ipython",
    "version": 3
   },
   "file_extension": ".py",
   "mimetype": "text/x-python",
   "name": "python",
   "nbconvert_exporter": "python",
   "pygments_lexer": "ipython3",
   "version": "3.10.12"
  }
 },
 "nbformat": 4,
 "nbformat_minor": 4
}
