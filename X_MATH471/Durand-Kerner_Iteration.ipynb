{
 "cells": [
  {
   "cell_type": "code",
   "execution_count": 2,
   "id": "aabed4b2-2e71-45f4-8906-a76457b4a235",
   "metadata": {},
   "outputs": [
    {
     "name": "stdout",
     "output_type": "stream",
     "text": [
      "-2.2 0 0\n",
      "2.3 1 0\n",
      "-2.4222222222222225 0 1\n",
      "2.522222222222222 1 1\n",
      "-2.6244694132334585 0 2\n",
      "2.724469413233458 1 2\n",
      "-2.8114223832416276 0 3\n",
      "2.9114223832416273 1 3\n",
      "-2.9861606542946286 0 4\n",
      "3.0861606542946283 1 4\n",
      "-3.1508423220096597 0 5\n",
      "3.2508423220096594 1 5\n",
      "-3.307051203828641 0 6\n",
      "3.4070512038286407 1 6\n",
      "-3.455991440256897 0 7\n",
      "3.555991440256897 1 7\n",
      "-3.5986044524447887 0 8\n",
      "3.6986044524447883 1 8\n",
      "-3.7356431494361737 0 9\n",
      "3.8356431494361733 1 9\n"
     ]
    },
    {
     "data": {
      "text/plain": [
       "[-3.7356431494361737, 3.8356431494361733]"
      ]
     },
     "execution_count": 2,
     "metadata": {},
     "output_type": "execute_result"
    }
   ],
   "source": [
    "import math as m\n",
    "\n",
    "def DurandKerner(A,I,N):\n",
    "    if len(A)-1!=len(I):\n",
    "        return \"It's broken\"\n",
    "    n=len(A)-1\n",
    "    p=[1] * len(A)\n",
    "    \n",
    "    for k in range(0,N):\n",
    "        I2 = I.copy()\n",
    "        for i in range(0,n):\n",
    "            #p.append(0)\n",
    "            p[i] = A[n]\n",
    "            for a in range(1, len(A)):\n",
    "                p[i]=A[n - a] + I2[i] * p[i] \n",
    "                #print(p[i],i,k)\n",
    "            #print([I[i]**k - I[j]**k for j in range(0,n) if j!=i])\n",
    "            I[i]=I2[i]-(p[i]/m.prod([I2[i] - I2[j] for j in range(0,(n)) if j!=i]))\n",
    "            print(I[i],i,k)\n",
    "    return I\n",
    "DurandKerner([1,0,-1],[-.2,.3],10)"
   ]
  },
  {
   "cell_type": "code",
   "execution_count": 19,
   "id": "5f64e86a-496e-4d50-a85b-2317b486b228",
   "metadata": {},
   "outputs": [
    {
     "data": {
      "text/plain": [
       "True"
      ]
     },
     "execution_count": 19,
     "metadata": {},
     "output_type": "execute_result"
    }
   ],
   "source": [
    "4!=3"
   ]
  },
  {
   "cell_type": "code",
   "execution_count": 53,
   "id": "9a543cea-923d-4f1f-840f-79ec3111e04c",
   "metadata": {},
   "outputs": [
    {
     "data": {
      "text/plain": [
       "6"
      ]
     },
     "execution_count": 53,
     "metadata": {},
     "output_type": "execute_result"
    }
   ],
   "source": [
    "m.prod([2,3])"
   ]
  },
  {
   "cell_type": "code",
   "execution_count": null,
   "id": "72e2b24e-4a97-4e42-982e-61bf45ac6245",
   "metadata": {},
   "outputs": [],
   "source": []
  }
 ],
 "metadata": {
  "kernelspec": {
   "display_name": "Python 3 (ipykernel)",
   "language": "python",
   "name": "python3"
  },
  "language_info": {
   "codemirror_mode": {
    "name": "ipython",
    "version": 3
   },
   "file_extension": ".py",
   "mimetype": "text/x-python",
   "name": "python",
   "nbconvert_exporter": "python",
   "pygments_lexer": "ipython3",
   "version": "3.12.3"
  }
 },
 "nbformat": 4,
 "nbformat_minor": 5
}
