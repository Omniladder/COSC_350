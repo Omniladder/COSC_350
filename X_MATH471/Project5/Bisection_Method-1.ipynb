{
 "cells": [
  {
   "cell_type": "code",
   "execution_count": 6,
   "id": "7c2383ba-493e-44d7-a1f6-a7c8350dc079",
   "metadata": {},
   "outputs": [
    {
     "data": {
      "text/plain": [
       "0.025935133957207063"
      ]
     },
     "execution_count": 6,
     "metadata": {},
     "output_type": "execute_result"
    }
   ],
   "source": [
    "import numpy as np\n",
    "import math as m\n",
    "\"\"\"Bisection Method\"\"\"\n",
    "def f(x):\n",
    "    return (7200 / x) * (1 - (1 + x / 12) ** -360) - 150000\n",
    "\n",
    "def bisectionmethod(fun,a,b,eps):\n",
    "    fa=fun(a)\n",
    "    fb=fun(b)\n",
    "    if fun(a)*fun(b)>0:\n",
    "        return \"f(a)*f(b)>0\"\n",
    "    n=int(np.fix((np.log(b-a)-np.log(eps))/np.log(2))+1)\n",
    "    for i in range(1,n+1):\n",
    "        c=a+.5*(b-a)\n",
    "        fc=fun(c)\n",
    "        if fa*fc<0:\n",
    "            b=c\n",
    "            fb=fc\n",
    "        elif fa*fc>0:\n",
    "            a=c\n",
    "            fa=fc\n",
    "        else:\n",
    "            return c\n",
    "    return c\n",
    "bisectionmethod(f,.00001,1,.0000000000001)"
   ]
  },
  {
   "cell_type": "code",
   "execution_count": null,
   "id": "55bc89de-d205-443f-86c0-6d98e3f50461",
   "metadata": {},
   "outputs": [],
   "source": []
  }
 ],
 "metadata": {
  "kernelspec": {
   "display_name": "Python 3 (ipykernel)",
   "language": "python",
   "name": "python3"
  },
  "language_info": {
   "codemirror_mode": {
    "name": "ipython",
    "version": 3
   },
   "file_extension": ".py",
   "mimetype": "text/x-python",
   "name": "python",
   "nbconvert_exporter": "python",
   "pygments_lexer": "ipython3",
   "version": "3.12.3"
  }
 },
 "nbformat": 4,
 "nbformat_minor": 5
}
