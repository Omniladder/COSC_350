{
 "cells": [
  {
   "cell_type": "code",
   "execution_count": 1,
   "id": "3aa6a354-904d-47f0-9164-a2cdcdf8b5b2",
   "metadata": {},
   "outputs": [
    {
     "name": "stdin",
     "output_type": "stream",
     "text": [
      "Please Input Your x\n",
      " 1\n",
      "Please Input Your h\n",
      " 1/8\n"
     ]
    },
    {
     "name": "stdout",
     "output_type": "stream",
     "text": [
      "Forward Difference Approximation:  -3.0614674589207183  Error:  0.6168502750680849\n",
      "Central Difference Approximation :  -3.0614674589207183  Error:  0.08074551218828077\n"
     ]
    }
   ],
   "source": [
    "#Allows usage of math functions\n",
    "import math\n",
    "#Allows User to type in as Fraction\n",
    "from fractions import Fraction\n",
    "\n",
    "#Function f(x)\n",
    "def f(x):\n",
    "    return math.sin(math.pi * x)\n",
    "\n",
    "#Takes in user input uses Fraction to convert fraction into something usable than converts that into a decimal\n",
    "x = float(Fraction(input(\"Please Input Your x\\n\")))\n",
    "h = float(Fraction(input(\"Please Input Your h\\n\")))\n",
    "\n",
    "#Formulas for calculating these things Based on Forward Difference\n",
    "approx1 = (f(x + h) - f(x)) / h\n",
    "error1 = (math.pi ** 2 * h) / 2\n",
    "\n",
    "#Formulas for calculating Based on Central Difference\n",
    "approx2 = (f(x + h) - f(x - h)) / (2 * h)\n",
    "error2 = (math.pi ** 3 * h ** 2) / 6\n",
    "\n",
    "#Outputs\n",
    "print(\"Forward Difference Approximation: \", approx1, \" Error: \", error1)\n",
    "print(\"Central Difference Approximation : \", approx2, \" Error: \", error2)\n",
    "\n"
   ]
  },
  {
   "cell_type": "code",
   "execution_count": null,
   "id": "a5b84d96-12e9-4df3-b7bd-6ed29bc83318",
   "metadata": {},
   "outputs": [],
   "source": []
  }
 ],
 "metadata": {
  "kernelspec": {
   "display_name": "Python 3 (ipykernel)",
   "language": "python",
   "name": "python3"
  },
  "language_info": {
   "codemirror_mode": {
    "name": "ipython",
    "version": 3
   },
   "file_extension": ".py",
   "mimetype": "text/x-python",
   "name": "python",
   "nbconvert_exporter": "python",
   "pygments_lexer": "ipython3",
   "version": "3.12.3"
  }
 },
 "nbformat": 4,
 "nbformat_minor": 5
}
