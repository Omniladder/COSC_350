{
 "cells": [
  {
   "cell_type": "code",
   "execution_count": 51,
   "id": "aabed4b2-2e71-45f4-8906-a76457b4a235",
   "metadata": {},
   "outputs": [
    {
     "name": "stdout",
     "output_type": "stream",
     "text": [
      "-2.12 0 0\n",
      "0.6760330578512397 1 0\n",
      "-1.213572948687633 0 1\n",
      "1.4449654700389398 1 1\n",
      "-0.08244041338020214 0 2\n",
      "1.6839681470944088 1 2\n",
      "1.0577010966924003 0 3\n",
      "-0.6643824876660682 1 3\n",
      "-0.18073317726503713 0 4\n",
      "1.2214854245660194 1 4\n"
     ]
    },
    {
     "data": {
      "text/plain": [
       "[-0.18073317726503713, 1.2214854245660194]"
      ]
     },
     "execution_count": 51,
     "metadata": {},
     "output_type": "execute_result"
    }
   ],
   "source": [
    "import math as m\n",
    "\n",
    "def DurandKerner(A,I,N):\n",
    "    if len(A)-1!=len(I):\n",
    "        return \"It's broken\"\n",
    "    n=len(A)-1\n",
    "    p=[]\n",
    "    for k in range(0,N):\n",
    "        for i in range(0,n):\n",
    "            p.append(0)\n",
    "            for a in range(len(A)):\n",
    "                p[i]+=A[a]*I[i]**(n-a)\n",
    "                #print(p[i],i,k)\n",
    "            #product=[(I[i]-I[n-1-j]) for j in range(0,n) if n-1-j!=i]\n",
    "            #print(product)\n",
    "            I[i]=I[i]-(p[i]/m.prod((I[i]-I[j]) for j in range(0,n) if j!=i))\n",
    "            print(I[i],i,k)\n",
    "    return I\n",
    "DurandKerner([1,0,-1],[-.2,.3],)"
   ]
  },
  {
   "cell_type": "code",
   "execution_count": 19,
   "id": "5f64e86a-496e-4d50-a85b-2317b486b228",
   "metadata": {},
   "outputs": [
    {
     "data": {
      "text/plain": [
       "True"
      ]
     },
     "execution_count": 19,
     "metadata": {},
     "output_type": "execute_result"
    }
   ],
   "source": [
    "4!=3"
   ]
  },
  {
   "cell_type": "code",
   "execution_count": 53,
   "id": "9a543cea-923d-4f1f-840f-79ec3111e04c",
   "metadata": {},
   "outputs": [
    {
     "data": {
      "text/plain": [
       "6"
      ]
     },
     "execution_count": 53,
     "metadata": {},
     "output_type": "execute_result"
    }
   ],
   "source": [
    "m.prod([2,3])"
   ]
  },
  {
   "cell_type": "code",
   "execution_count": null,
   "id": "72e2b24e-4a97-4e42-982e-61bf45ac6245",
   "metadata": {},
   "outputs": [],
   "source": []
  }
 ],
 "metadata": {
  "kernelspec": {
   "display_name": "Python 3 (ipykernel)",
   "language": "python",
   "name": "python3"
  },
  "language_info": {
   "codemirror_mode": {
    "name": "ipython",
    "version": 3
   },
   "file_extension": ".py",
   "mimetype": "text/x-python",
   "name": "python",
   "nbconvert_exporter": "python",
   "pygments_lexer": "ipython3",
   "version": "3.12.4"
  }
 },
 "nbformat": 4,
 "nbformat_minor": 5
}
