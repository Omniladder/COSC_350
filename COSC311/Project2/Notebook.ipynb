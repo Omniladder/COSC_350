{
 "cells": [
  {
   "cell_type": "code",
   "execution_count": 5,
   "id": "30fb846f-c409-4842-80e8-e0c366c7f03a",
   "metadata": {},
   "outputs": [],
   "source": [
    "import pandas as pd\n",
    "from matplotlib import pyplot as plt\n",
    "from sklearn.svm import SVC\n",
    "from sklearn.model_selection import train_test_split\n",
    "\n",
    "# This Segment of code sets up the data to be used\n",
    "dataFiles = [\"COUGH.csv\", \"EAT.csv\", \"SIT.csv\", \"WALK.csv\", \"DRINK.csv\", \"READ.csv\"]\n",
    "datasets = []\n",
    "\n",
    "for i in dataFiles:\n",
    "    tempData = pd.read_csv(i)\n",
    "    tempData = tempData.drop(0)\n",
    "    tempData = tempData.apply(pd.to_numeric)\n",
    "    datasets.append(tempData)\n"
   ]
  },
  {
   "cell_type": "code",
   "execution_count": 6,
   "id": "e4dfba81-0654-48eb-b8fe-61e29f4b3f14",
   "metadata": {},
   "outputs": [
    {
     "name": "stderr",
     "output_type": "stream",
     "text": [
      "IOPub data rate exceeded.\n",
      "The Jupyter server will temporarily stop sending output\n",
      "to the client in order to avoid crashing it.\n",
      "To change this limit, set the config variable\n",
      "`--ServerApp.iopub_data_rate_limit`.\n",
      "\n",
      "Current values:\n",
      "ServerApp.iopub_data_rate_limit=1000000.0 (bytes/sec)\n",
      "ServerApp.rate_limit_window=3.0 (secs)\n",
      "\n"
     ]
    }
   ],
   "source": [
    "#This section generates various Windows of data for the algorithm to predict from\n",
    "\n",
    "def slidingWindow(windowSize, dataset):\n",
    "    \n",
    "    \n",
    "    numSegments = int((len(dataset)) / windowSize)\n",
    "    segments = []\n",
    "    \n",
    "    #Grabs Window worth of Data\n",
    "    for i in range(numSegments):\n",
    "        segments.append(dataset.iloc[i * windowSize : i * windowSize + windowSize])\n",
    "    \n",
    "    if (len(tempData) % windowSize != 0):\n",
    "        segments.append(dataset.iloc[len(dataset) - windowSize - 1 : len(dataset)])\n",
    "\n",
    "    return segments\n",
    "\n",
    "def developWindow(windowSize, datasets):\n",
    "    labels = []\n",
    "    segmentations = []\n",
    "    \n",
    "    for i, k in enumerate(datasets):\n",
    "        tempSeg = slidingWindow(windowSize, k)\n",
    "        segmentations.append(tempSeg)\n",
    "        for j in range(len(tempSeg)):\n",
    "            labels.append(i)\n",
    "    \n",
    "    \n",
    "    segmentations = sum(segmentations, []) #This is craziest way of flattening a list\n",
    "    #print(segmentations)\n",
    "    return segmentations, labels\n",
    "\n",
    "svc = SVC()\n",
    "\n",
    "#for i in range(1, 1024):\n",
    "segments, labels = developWindow(100, datasets)\n",
    "\n",
    "\n",
    "x_train, x_test, y_train, y_test = train_test_split(segments, labels, test_size=0.2, random_state=0)\n",
    "\n",
    "for i in y_train:\n",
    "    print(y_train)\n",
    "\n",
    "\n",
    "#svc.fit(x_train, y_train)\n",
    "\n",
    "#print(SVC.score(x_test, y_test))"
   ]
  },
  {
   "cell_type": "code",
   "execution_count": null,
   "id": "3e612033-e109-4097-b2cf-d3df42ab6455",
   "metadata": {},
   "outputs": [],
   "source": []
  }
 ],
 "metadata": {
  "kernelspec": {
   "display_name": "Python 3 (ipykernel)",
   "language": "python",
   "name": "python3"
  },
  "language_info": {
   "codemirror_mode": {
    "name": "ipython",
    "version": 3
   },
   "file_extension": ".py",
   "mimetype": "text/x-python",
   "name": "python",
   "nbconvert_exporter": "python",
   "pygments_lexer": "ipython3",
   "version": "3.10.12"
  }
 },
 "nbformat": 4,
 "nbformat_minor": 5
}
