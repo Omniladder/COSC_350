{
 "cells": [
  {
   "cell_type": "markdown",
   "id": "ebc1c23b-1baf-407e-9b31-6b23cdcb0a3f",
   "metadata": {},
   "source": [
    "In This homework You will take a data set and build a model from the data to predict the target and evaluate the preformance using cross validation and grid search. If you are building a classification model you should adress which measure of accuracy is important and incorperate taht in your analysis. There are four datasets that have been provided. Information for each of them can be found here:\n",
    "\n",
    "Climate failure (pop_failures_fixed.dat):\n",
    "\n",
    "https://archive.ics.uci.edu/dataset/252/climate+model+simulation+crashes\n",
    "\n",
    "Forest Fires (forestfires.csv)\n",
    "\n",
    "https://archive.ics.uci.edu/dataset/162/forest+fires\n",
    "\n",
    "Wine Quality (winequality-white.csv,whinequality-red.csv)\n",
    "\n",
    "https://archive.ics.uci.edu/dataset/186/wine+quality\n",
    "\n",
    "If you wnat to choose your own dataset you can use the following link:\n",
    "\n",
    "https://archive.ics.uci.edu/datasets\n",
    "\n",
    "You should first state the question you are trying to answer whith model and then read in the data and make sure that the data is cleaned and ready for modeling. \n",
    "\n",
    "Next you may want to do some exploratory data analysis and convert and or scale any features you may want to use. You do not need to use all the fetures in the dataset, but you should have an explaination for any features that you drop.\n",
    "\n",
    "Next build an appropriate model to answer your question. Determine how well your model can answer your question  using cross-validation and grid search.\n",
    "\n",
    "Finally communicate your findings in a few paragraphs."
   ]
  },
  {
   "cell_type": "code",
   "execution_count": null,
   "id": "b27a5f68-a231-4cc9-8040-fbc17b0911d0",
   "metadata": {},
   "outputs": [],
   "source": [
    "%run import.py\n",
    "df_wine_red=pd.read_csv(\"winequality-red.csv\", sep=';')\n",
    "df_wine_white=pd.read_csv(\"winequality-white.csv\", sep=';')\n",
    "df_fires=pd.read_csv('forestfires.csv')\n",
    "df_pop=pd.read_csv('pop_failures_fixed.dat',sep=',')"
   ]
  }
 ],
 "metadata": {
  "kernelspec": {
   "display_name": "Python 3 (ipykernel)",
   "language": "python",
   "name": "python3"
  },
  "language_info": {
   "codemirror_mode": {
    "name": "ipython",
    "version": 3
   },
   "file_extension": ".py",
   "mimetype": "text/x-python",
   "name": "python",
   "nbconvert_exporter": "python",
   "pygments_lexer": "ipython3",
   "version": "3.9.12"
  }
 },
 "nbformat": 4,
 "nbformat_minor": 5
}
