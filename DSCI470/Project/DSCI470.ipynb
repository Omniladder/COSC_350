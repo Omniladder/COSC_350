{
 "cells": [
  {
   "cell_type": "code",
   "execution_count": 1,
   "id": "b34f6fb5-831d-4887-a327-403e68ceaca6",
   "metadata": {},
   "outputs": [],
   "source": [
    "import pandas as pd\n",
    "import numpy as np\n",
    "import matplotlib.pyplot as plt\n",
    "\n",
    "\n",
    "df = pd.read_excel(\"ElectionData.xlsx\")"
   ]
  },
  {
   "cell_type": "code",
   "execution_count": 3,
   "id": "28343a19-8903-4695-8714-815ed3e7a9e8",
   "metadata": {},
   "outputs": [
    {
     "name": "stdout",
     "output_type": "stream",
     "text": [
      "0           77\n",
      "1          182\n",
      "2        24468\n",
      "3          454\n",
      "4          117\n",
      "         ...  \n",
      "15222      NaN\n",
      "15223      NaN\n",
      "15224      NaN\n",
      "15225      NaN\n",
      "15226      NaN\n",
      "Name: Votes, Length: 15227, dtype: object\n",
      "             Seat Constituency_title              Candidate_Name  \\\n",
      "0      PESHAWAR-I               NA-1        Aamir Shehzad Hashmi   \n",
      "1      PESHAWAR-I               NA-1                  Akram Khan   \n",
      "2      PESHAWAR-I               NA-1  Alhaaj Ghulam Ahmad Bilour   \n",
      "3      PESHAWAR-I               NA-1                   Amir Syed   \n",
      "4      PESHAWAR-I               NA-1         Bashir Ahmad Afridi   \n",
      "...           ...                ...                         ...   \n",
      "15222         NaN             NA-272     Muhammad Akhtar Mengal    \n",
      "15223         NaN             NA-272     Mohammad Aslam Bhootani   \n",
      "15224         NaN             NA-272              Mohammad Akram   \n",
      "15225         NaN             NA-272          Nawab Khan Bizenjo   \n",
      "15226         NaN             NA-272         Wazir Ahmed Noorani   \n",
      "\n",
      "                                         Party  Votes  Total_Valid_Votes  \\\n",
      "0                           Mustaqbil Pakistan     77           145924.0   \n",
      "1                                  Independent    182           145924.0   \n",
      "2                         Awami National Party  24468           145924.0   \n",
      "3      Pakistan Peoples Party (Shaheed Bhutto)    454           145924.0   \n",
      "4            Muttahida Qaumi Movement Pakistan    117           145924.0   \n",
      "...                                        ...    ...                ...   \n",
      "15222                                      BNP    NaN                NaN   \n",
      "15223                              Independent    NaN                NaN   \n",
      "15224                                      PSP    NaN                NaN   \n",
      "15225                                      ATP    NaN                NaN   \n",
      "15226                                      TLP    NaN                NaN   \n",
      "\n",
      "       Total_Rejected_Votes  Total_Votes  Total_Registered_Voters  Turnout  \\\n",
      "0                    2103.0     146044.0                 320578.0   0.4618   \n",
      "1                    2103.0     146044.0                 320578.0   0.4618   \n",
      "2                    2103.0     146044.0                 320578.0   0.4618   \n",
      "3                    2103.0     146044.0                 320578.0   0.4618   \n",
      "4                    2103.0     146044.0                 320578.0   0.4618   \n",
      "...                     ...          ...                      ...      ...   \n",
      "15222                   NaN          NaN                      NaN      NaN   \n",
      "15223                   NaN          NaN                      NaN      NaN   \n",
      "15224                   NaN          NaN                      NaN      NaN   \n",
      "15225                   NaN          NaN                      NaN      NaN   \n",
      "15226                   NaN          NaN                      NaN      NaN   \n",
      "\n",
      "       Election  \n",
      "0          2013  \n",
      "1          2013  \n",
      "2          2013  \n",
      "3          2013  \n",
      "4          2013  \n",
      "...         ...  \n",
      "15222      2018  \n",
      "15223      2018  \n",
      "15224      2018  \n",
      "15225      2018  \n",
      "15226      2018  \n",
      "\n",
      "[15227 rows x 11 columns]\n"
     ]
    },
    {
     "data": {
      "text/plain": [
       "\"\\npotentCandidates = df[df['Votes'] / (df['Total_Valid_Votes'] + 1) > .3]\\n\\npakiParties = potentCandidates['Party']\\n\\nprint(df)\\n\""
      ]
     },
     "execution_count": 3,
     "metadata": {},
     "output_type": "execute_result"
    }
   ],
   "source": [
    "print(df['Votes'])\n",
    "\n",
    "for voteCount in df['Votes']:\n",
    "    if voteCount == str:\n",
    "        print(voteCount)\n",
    "\n",
    "\n",
    "print(df)\n",
    "'''\n",
    "potentCandidates = df[df['Votes'] / (df['Total_Valid_Votes'] + 1) > .3]\n",
    "\n",
    "pakiParties = potentCandidates['Party']\n",
    "\n",
    "print(df)\n",
    "'''"
   ]
  },
  {
   "cell_type": "code",
   "execution_count": 75,
   "id": "db86a92b-8301-4eb1-bb3c-26e1d475b6f7",
   "metadata": {},
   "outputs": [
    {
     "name": "stdout",
     "output_type": "stream",
     "text": [
      "<class 'pandas.core.series.Series'>\n",
      "Party\n",
      "Independent                                6041\n",
      "Pakistan Muslim League                     1072\n",
      "IND                                         974\n",
      "Pakistan Peoples Party Parliamentarians     655\n",
      "PPP                                         392\n",
      "                                           ... \n",
      "JamiatUlema-e-pakistan                        1\n",
      "Tameer-e-Pakistan Party                       1\n",
      "Pakistan mazdoor Kissan Party                 1\n",
      "Qaumi Inqilab Party                           1\n",
      "NPCP                                          1\n",
      "Name: count, Length: 287, dtype: int64\n"
     ]
    },
    {
     "name": "stderr",
     "output_type": "stream",
     "text": [
      "/tmp/ipykernel_21990/4113432845.py:14: FutureWarning: pandas.value_counts is deprecated and will be removed in a future version. Use pd.Series(obj).value_counts() instead.\n",
      "  partyOccurences = pd.value_counts(pakiParties)\n"
     ]
    }
   ],
   "source": [
    "#values, counts = np.unique(pakiParties, return_counts = True)\n",
    "\n",
    "#Removes Unknown Parties\n",
    "pakiParties = pakiParties.dropna()\n",
    "\n",
    "#Removes subvariations of parties\n",
    "pakiParties = pakiParties.str.split('(').str[0]\n",
    "\n",
    "#Cleans off whitespace\n",
    "pakiParties = pakiParties.str.strip()\n",
    "\n",
    "print(type(pakiParties))\n",
    "\n",
    "partyOccurences = pd.value_counts(pakiParties)\n",
    "\n",
    "\n",
    "\n",
    "print((partyOccurences))"
   ]
  },
  {
   "cell_type": "code",
   "execution_count": null,
   "id": "e68620e1-8635-4a5b-aa65-9a84f4a3f6cc",
   "metadata": {},
   "outputs": [],
   "source": []
  }
 ],
 "metadata": {
  "kernelspec": {
   "display_name": "Python 3 (ipykernel)",
   "language": "python",
   "name": "python3"
  },
  "language_info": {
   "codemirror_mode": {
    "name": "ipython",
    "version": 3
   },
   "file_extension": ".py",
   "mimetype": "text/x-python",
   "name": "python",
   "nbconvert_exporter": "python",
   "pygments_lexer": "ipython3",
   "version": "3.10.15"
  }
 },
 "nbformat": 4,
 "nbformat_minor": 5
}
