{
 "cells": [
  {
   "cell_type": "code",
   "execution_count": 1,
   "id": "b34f6fb5-831d-4887-a327-403e68ceaca6",
   "metadata": {},
   "outputs": [],
   "source": [
    "import pandas as pd\n",
    "import numpy as np\n",
    "import matplotlib.pyplot as plt\n",
    "\n",
    "\n",
    "df = pd.read_excel(\"ElectionData.xlsx\")"
   ]
  },
  {
   "cell_type": "code",
   "execution_count": 19,
   "id": "28343a19-8903-4695-8714-815ed3e7a9e8",
   "metadata": {},
   "outputs": [
    {
     "name": "stdout",
     "output_type": "stream",
     "text": [
      "Hello\n",
      "\n"
     ]
    }
   ],
   "source": [
    "#print(df['Votes'])\n",
    "\n",
    "for voteCount in df['Votes']:\n",
    "    if type(voteCount) === float:\n",
    "        print(voteCount)\n",
    "\n",
    "print('Hello')\n",
    "#print(df)\n",
    "'''\n",
    "potentCandidates = df[df['Votes'] / (df['Total_Valid_Votes'] + 1) > .3]\n",
    "\n",
    "pakiParties = potentCandidates['Party']\n",
    "\n",
    "print(df)\n",
    "'''\n",
    "print()"
   ]
  },
  {
   "cell_type": "code",
   "execution_count": 75,
   "id": "db86a92b-8301-4eb1-bb3c-26e1d475b6f7",
   "metadata": {},
   "outputs": [
    {
     "name": "stdout",
     "output_type": "stream",
     "text": [
      "<class 'pandas.core.series.Series'>\n",
      "Party\n",
      "Independent                                6041\n",
      "Pakistan Muslim League                     1072\n",
      "IND                                         974\n",
      "Pakistan Peoples Party Parliamentarians     655\n",
      "PPP                                         392\n",
      "                                           ... \n",
      "JamiatUlema-e-pakistan                        1\n",
      "Tameer-e-Pakistan Party                       1\n",
      "Pakistan mazdoor Kissan Party                 1\n",
      "Qaumi Inqilab Party                           1\n",
      "NPCP                                          1\n",
      "Name: count, Length: 287, dtype: int64\n"
     ]
    },
    {
     "name": "stderr",
     "output_type": "stream",
     "text": [
      "/tmp/ipykernel_21990/4113432845.py:14: FutureWarning: pandas.value_counts is deprecated and will be removed in a future version. Use pd.Series(obj).value_counts() instead.\n",
      "  partyOccurences = pd.value_counts(pakiParties)\n"
     ]
    }
   ],
   "source": [
    "#values, counts = np.unique(pakiParties, return_counts = True)\n",
    "\n",
    "#Removes Unknown Parties\n",
    "pakiParties = pakiParties.dropna()\n",
    "\n",
    "#Removes subvariations of parties\n",
    "pakiParties = pakiParties.str.split('(').str[0]\n",
    "\n",
    "#Cleans off whitespace\n",
    "pakiParties = pakiParties.str.strip()\n",
    "\n",
    "print(type(pakiParties))\n",
    "\n",
    "partyOccurences = pd.value_counts(pakiParties)\n",
    "\n",
    "\n",
    "\n",
    "print((partyOccurences))"
   ]
  },
  {
   "cell_type": "code",
   "execution_count": null,
   "id": "e68620e1-8635-4a5b-aa65-9a84f4a3f6cc",
   "metadata": {},
   "outputs": [],
   "source": []
  }
 ],
 "metadata": {
  "kernelspec": {
   "display_name": "Python 3 (ipykernel)",
   "language": "python",
   "name": "python3"
  },
  "language_info": {
   "codemirror_mode": {
    "name": "ipython",
    "version": 3
   },
   "file_extension": ".py",
   "mimetype": "text/x-python",
   "name": "python",
   "nbconvert_exporter": "python",
   "pygments_lexer": "ipython3",
   "version": "3.10.15"
  }
 },
 "nbformat": 4,
 "nbformat_minor": 5
}
